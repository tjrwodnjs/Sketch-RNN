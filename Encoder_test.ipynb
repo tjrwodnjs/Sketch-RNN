{
 "cells": [
  {
   "cell_type": "code",
   "execution_count": 1,
   "metadata": {},
   "outputs": [],
   "source": [
    "import dezero\n",
    "import dezero.functions as F\n",
    "import dezero.layers as L\n",
    "from dezero.models import Model\n",
    "\n",
    "import numpy as np"
   ]
  },
  {
   "cell_type": "code",
   "execution_count": null,
   "metadata": {},
   "outputs": [],
   "source": [
    "F.softmax()"
   ]
  },
  {
   "cell_type": "code",
   "execution_count": null,
   "metadata": {},
   "outputs": [],
   "source": [
    "class EncoderRNN(Model):\n",
    "    def __init__(self, hidden_size):\n",
    "        super().__init__()\n",
    "        self.f_rnn = L.LSTM(hidden_size)\n",
    "        self.b_rnn = L.LSTM(hidden_size)\n",
    "\n",
    "        self.mu = L.Linear(hidden_size * 2)\n",
    "        self.sigma = L.Linear(hidden_size * 2)\n",
    "\n",
    "    def reset_state(self):\n",
    "        self.f_rnn.reset_state()\n",
    "        self.b_rnn.reset_state()\n",
    "\n",
    "    def forward(self, inputs):\n",
    "        f_h = self.f_rnn(inputs)\n",
    "        b_h = self.b_rnn(inputs[::-1])\n",
    "        h = np.concatenate(self.f_h, self.b_h)\n",
    "        \n",
    "        mu = self."
   ]
  }
 ],
 "metadata": {
  "kernelspec": {
   "display_name": "Python 3",
   "language": "python",
   "name": "python3"
  },
  "language_info": {
   "codemirror_mode": {
    "name": "ipython",
    "version": 3
   },
   "file_extension": ".py",
   "mimetype": "text/x-python",
   "name": "python",
   "nbconvert_exporter": "python",
   "pygments_lexer": "ipython3",
   "version": "3.10.11"
  }
 },
 "nbformat": 4,
 "nbformat_minor": 2
}
